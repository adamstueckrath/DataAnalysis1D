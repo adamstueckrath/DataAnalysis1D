{
 "cells": [
  {
   "cell_type": "code",
   "execution_count": 1,
   "metadata": {
    "collapsed": true
   },
   "outputs": [],
   "source": [
    "import numpy as np\n",
    "\n",
    "# return a standardized version of the given values,\n",
    "# which will be in a NumPy array. Each value is translated into the\n",
    "# number of standard deviations that it is away from the mean of the data.\n",
    "# (A positive number indicates a value higher than the mean, and a negative\n",
    "# number indicates a value lower than the mean.)\n",
    "\n",
    "def standardize_data(values):\n",
    "    standardized_value = (values - values.mean()) / values.std()\n",
    "    return standardized_value\n"
   ]
  },
  {
   "cell_type": "code",
   "execution_count": 2,
   "metadata": {
    "collapsed": true
   },
   "outputs": [],
   "source": [
    "import pandas as pd\n",
    "\n",
    "# Determines if two series of data are positively correlated. \n",
    "# Each argument will be a Pandas series. \n",
    "# Returns the number of data points variable1 and variable2, \n",
    "# relative to the mean, are the same, and the number of data points \n",
    "# for which they are different.\n",
    "\n",
    "def variable_correlation(variable1, variable2):\n",
    "    both_above = (variable1 > variable1.mean()) & \\\n",
    "                 (variable2 > variable2.mean())\n",
    "    both_below = (variable1 < variable1.mean()) & \\\n",
    "                 (variable2 < variable2.mean())  \n",
    "    \n",
    "    is_same_direction = both_above | both_below\n",
    "    num_same_direction = is_same_direction.sum()\n",
    "    \n",
    "    num_different_direction = len(variable1) - num_same_direction\n",
    "    \n",
    "    return (num_same_direction, num_different_direction)"
   ]
  },
  {
   "cell_type": "code",
   "execution_count": 3,
   "metadata": {
    "collapsed": true
   },
   "outputs": [],
   "source": [
    "# The input will be a Pandas series where the values\n",
    "# are employment and the index is country names.\n",
    "\n",
    "def max_data_point(data):\n",
    "    max_index = data.argmax()      \n",
    "    max_value = data.loc[max_index] \n",
    "    return (max_index, max_value)"
   ]
  },
  {
   "cell_type": "code",
   "execution_count": null,
   "metadata": {
    "collapsed": true
   },
   "outputs": [],
   "source": []
  }
 ],
 "metadata": {
  "kernelspec": {
   "display_name": "Python [Root]",
   "language": "python",
   "name": "Python [Root]"
  },
  "language_info": {
   "codemirror_mode": {
    "name": "ipython",
    "version": 2
   },
   "file_extension": ".py",
   "mimetype": "text/x-python",
   "name": "python",
   "nbconvert_exporter": "python",
   "pygments_lexer": "ipython2",
   "version": "2.7.12"
  }
 },
 "nbformat": 4,
 "nbformat_minor": 0
}
